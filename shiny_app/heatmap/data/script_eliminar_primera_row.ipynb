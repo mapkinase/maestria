{
 "cells": [
  {
   "cell_type": "code",
   "execution_count": 40,
   "metadata": {},
   "outputs": [],
   "source": [
    "# Script para eliminar la segunda columna de un archivo CSV\n",
    "import pandas as pd\n",
    "data = pd.read_csv(\"fluoxetina_entren1_1.csv\")\n",
    "df_s = data\n",
    "df_s = df_s.drop(0.000)\n",
    "print(df_s)\n",
    "df_s.to_csv('test.csv', index=False)"
   ]
  },
  {
   "cell_type": "code",
   "execution_count": null,
   "metadata": {},
   "outputs": [],
   "source": [
    "# Script en loop que elimina la primera columna de los archivos, divide entre 10 (mm a cm). Al final guarda con el mismo nombre el archivo\n",
    "\n",
    "import pandas as pd\n",
    "import os\n",
    "import glob\n",
    "\n",
    "# use glob to get all the csv files in the folder\n",
    "path = os.getcwd()\n",
    "csv_files = glob.glob(os.path.join(path, \"*.csv\"))\n",
    "\n",
    "\n",
    "# loop over the list of csv files\n",
    "for f in csv_files:\n",
    "\t\n",
    "\t# read the csv file\n",
    "\tdf = pd.read_csv(f)\n",
    "    # eliminar primera columna\n",
    "\tdf=df.drop(0)\n",
    "    # dividir entre 10 ejes X y Y\n",
    "\tdf['X']=df['X'].div(10)\n",
    "\tdf['Y']=df['Y'].div(10)\n",
    "    # Guardar archivo\n",
    "\tdf.to_csv(f, index = False)\n",
    "    # Como extra se puede meter el siguiente código\n",
    "    \n",
    "    # print the location and filename\n",
    "\t# print('Location:', f)\n",
    "\t# print('File Name:', f.split(\"\\\\\")[-1])\n",
    "\t\n",
    "\t# # print the content\n",
    "\t# print('Content:')\n",
    "\t# display(df)\n",
    "\t# print()"
   ]
  },
  {
   "cell_type": "code",
   "execution_count": 2,
   "metadata": {},
   "outputs": [],
   "source": []
  },
  {
   "cell_type": "code",
   "execution_count": 3,
   "metadata": {},
   "outputs": [],
   "source": []
  },
  {
   "cell_type": "code",
   "execution_count": 4,
   "metadata": {},
   "outputs": [],
   "source": []
  },
  {
   "cell_type": "code",
   "execution_count": 5,
   "metadata": {},
   "outputs": [
    {
     "name": "stdout",
     "output_type": "stream",
     "text": [
      "      Time       X      Y\n",
      "1     0.15   826.7  645.3\n",
      "2     0.26   794.7  661.3\n",
      "3     0.37   778.7  672.0\n",
      "4     0.48   746.7  688.0\n",
      "5     0.59   714.7  709.3\n",
      "..     ...     ...    ...\n",
      "486  53.33  1109.3  416.0\n",
      "487  53.44  1109.3  410.7\n",
      "488  53.55  1109.3  410.7\n",
      "489  53.66  1109.3  410.7\n",
      "490  53.77  1109.3  410.7\n",
      "\n",
      "[490 rows x 3 columns]\n"
     ]
    }
   ],
   "source": []
  },
  {
   "cell_type": "code",
   "execution_count": 6,
   "metadata": {},
   "outputs": [],
   "source": []
  },
  {
   "cell_type": "code",
   "execution_count": 1,
   "metadata": {},
   "outputs": [],
   "source": []
  },
  {
   "cell_type": "code",
   "execution_count": 39,
   "metadata": {},
   "outputs": [],
   "source": [
    "\n"
   ]
  },
  {
   "cell_type": "code",
   "execution_count": null,
   "metadata": {},
   "outputs": [],
   "source": []
  },
  {
   "cell_type": "code",
   "execution_count": null,
   "metadata": {},
   "outputs": [],
   "source": []
  },
  {
   "cell_type": "code",
   "execution_count": null,
   "metadata": {},
   "outputs": [],
   "source": []
  },
  {
   "cell_type": "code",
   "execution_count": null,
   "metadata": {},
   "outputs": [],
   "source": []
  },
  {
   "cell_type": "code",
   "execution_count": null,
   "metadata": {},
   "outputs": [],
   "source": [
    "\n",
    "\n",
    "    \n",
    "\n"
   ]
  },
  {
   "cell_type": "code",
   "execution_count": null,
   "metadata": {},
   "outputs": [],
   "source": []
  },
  {
   "cell_type": "code",
   "execution_count": null,
   "metadata": {},
   "outputs": [],
   "source": []
  },
  {
   "cell_type": "code",
   "execution_count": null,
   "metadata": {},
   "outputs": [],
   "source": []
  },
  {
   "cell_type": "code",
   "execution_count": null,
   "metadata": {},
   "outputs": [],
   "source": []
  },
  {
   "cell_type": "code",
   "execution_count": null,
   "metadata": {},
   "outputs": [],
   "source": []
  },
  {
   "cell_type": "code",
   "execution_count": null,
   "metadata": {},
   "outputs": [],
   "source": []
  },
  {
   "cell_type": "code",
   "execution_count": null,
   "metadata": {},
   "outputs": [],
   "source": []
  },
  {
   "cell_type": "code",
   "execution_count": null,
   "metadata": {},
   "outputs": [],
   "source": []
  },
  {
   "cell_type": "code",
   "execution_count": null,
   "metadata": {},
   "outputs": [],
   "source": []
  },
  {
   "cell_type": "code",
   "execution_count": null,
   "metadata": {},
   "outputs": [],
   "source": []
  }
 ],
 "metadata": {
  "kernelspec": {
   "display_name": "Python 3.9.12 ('base')",
   "language": "python",
   "name": "python3"
  },
  "language_info": {
   "codemirror_mode": {
    "name": "ipython",
    "version": 3
   },
   "file_extension": ".py",
   "mimetype": "text/x-python",
   "name": "python",
   "nbconvert_exporter": "python",
   "pygments_lexer": "ipython3",
   "version": "3.9.12"
  },
  "orig_nbformat": 4,
  "vscode": {
   "interpreter": {
    "hash": "c41012f43e6205c134373b58af4c3c242eac16a3d1fcadd69d1dc9d7bf3c17da"
   }
  }
 },
 "nbformat": 4,
 "nbformat_minor": 2
}
